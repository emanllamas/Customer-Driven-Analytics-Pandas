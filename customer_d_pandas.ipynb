{
 "cells": [
  {
   "cell_type": "markdown",
   "metadata": {},
   "source": [
    "### Heroes Of Pymoli Data Analysis\n",
    "* A vast majority of players are male (84.03%). \n",
    "* In terms of age demographics 77% of players are between the ages of 15-29, out of which 44% are between 20-24. \n",
    "* There seems to be no correlation between price of item and amount of items purchased. \n"
   ]
  },
  {
   "cell_type": "code",
   "execution_count": 1,
   "metadata": {},
   "outputs": [],
   "source": [
    "import pandas as pd\n",
    "import numpy as np\n",
    "\n",
    "file = \"Resources/purchase_data.csv\"\n",
    "\n",
    "data = pd.read_csv(file)"
   ]
  },
  {
   "cell_type": "code",
   "execution_count": 2,
   "metadata": {
    "scrolled": true
   },
   "outputs": [
    {
     "data": {
      "text/html": [
       "<div>\n",
       "<style scoped>\n",
       "    .dataframe tbody tr th:only-of-type {\n",
       "        vertical-align: middle;\n",
       "    }\n",
       "\n",
       "    .dataframe tbody tr th {\n",
       "        vertical-align: top;\n",
       "    }\n",
       "\n",
       "    .dataframe thead th {\n",
       "        text-align: right;\n",
       "    }\n",
       "</style>\n",
       "<table border=\"1\" class=\"dataframe\">\n",
       "  <thead>\n",
       "    <tr style=\"text-align: right;\">\n",
       "      <th></th>\n",
       "      <th>Purchase ID</th>\n",
       "      <th>SN</th>\n",
       "      <th>Age</th>\n",
       "      <th>Gender</th>\n",
       "      <th>Item ID</th>\n",
       "      <th>Item Name</th>\n",
       "      <th>Price</th>\n",
       "    </tr>\n",
       "  </thead>\n",
       "  <tbody>\n",
       "    <tr>\n",
       "      <th>0</th>\n",
       "      <td>0</td>\n",
       "      <td>Lisim78</td>\n",
       "      <td>20</td>\n",
       "      <td>Male</td>\n",
       "      <td>108</td>\n",
       "      <td>Extraction, Quickblade Of Trembling Hands</td>\n",
       "      <td>3.53</td>\n",
       "    </tr>\n",
       "    <tr>\n",
       "      <th>1</th>\n",
       "      <td>1</td>\n",
       "      <td>Lisovynya38</td>\n",
       "      <td>40</td>\n",
       "      <td>Male</td>\n",
       "      <td>143</td>\n",
       "      <td>Frenzied Scimitar</td>\n",
       "      <td>1.56</td>\n",
       "    </tr>\n",
       "    <tr>\n",
       "      <th>2</th>\n",
       "      <td>2</td>\n",
       "      <td>Ithergue48</td>\n",
       "      <td>24</td>\n",
       "      <td>Male</td>\n",
       "      <td>92</td>\n",
       "      <td>Final Critic</td>\n",
       "      <td>4.88</td>\n",
       "    </tr>\n",
       "    <tr>\n",
       "      <th>3</th>\n",
       "      <td>3</td>\n",
       "      <td>Chamassasya86</td>\n",
       "      <td>24</td>\n",
       "      <td>Male</td>\n",
       "      <td>100</td>\n",
       "      <td>Blindscythe</td>\n",
       "      <td>3.27</td>\n",
       "    </tr>\n",
       "    <tr>\n",
       "      <th>4</th>\n",
       "      <td>4</td>\n",
       "      <td>Iskosia90</td>\n",
       "      <td>23</td>\n",
       "      <td>Male</td>\n",
       "      <td>131</td>\n",
       "      <td>Fury</td>\n",
       "      <td>1.44</td>\n",
       "    </tr>\n",
       "  </tbody>\n",
       "</table>\n",
       "</div>"
      ],
      "text/plain": [
       "   Purchase ID             SN  Age Gender  Item ID  \\\n",
       "0            0        Lisim78   20   Male      108   \n",
       "1            1    Lisovynya38   40   Male      143   \n",
       "2            2     Ithergue48   24   Male       92   \n",
       "3            3  Chamassasya86   24   Male      100   \n",
       "4            4      Iskosia90   23   Male      131   \n",
       "\n",
       "                                   Item Name  Price  \n",
       "0  Extraction, Quickblade Of Trembling Hands   3.53  \n",
       "1                          Frenzied Scimitar   1.56  \n",
       "2                               Final Critic   4.88  \n",
       "3                                Blindscythe   3.27  \n",
       "4                                       Fury   1.44  "
      ]
     },
     "execution_count": 2,
     "metadata": {},
     "output_type": "execute_result"
    }
   ],
   "source": [
    "data.head()"
   ]
  },
  {
   "cell_type": "code",
   "execution_count": 3,
   "metadata": {},
   "outputs": [],
   "source": [
    "data['Price'] = data['Price'].astype(float)"
   ]
  },
  {
   "cell_type": "code",
   "execution_count": 4,
   "metadata": {},
   "outputs": [],
   "source": [
    "# Used the unique fucntion to grab all unique gamertags within the list in order to find how many people play\n",
    "unique_sn = data[\"SN\"].unique()\n",
    "\n"
   ]
  },
  {
   "cell_type": "code",
   "execution_count": 5,
   "metadata": {},
   "outputs": [
    {
     "data": {
      "text/plain": [
       "576"
      ]
     },
     "execution_count": 5,
     "metadata": {},
     "output_type": "execute_result"
    }
   ],
   "source": [
    "# Used len function to find how many values exist in the array above ^^^\n",
    "total_num_gamers = len(unique_sn)\n",
    "total_num_gamers"
   ]
  },
  {
   "cell_type": "code",
   "execution_count": 6,
   "metadata": {},
   "outputs": [
    {
     "data": {
      "text/html": [
       "<div>\n",
       "<style scoped>\n",
       "    .dataframe tbody tr th:only-of-type {\n",
       "        vertical-align: middle;\n",
       "    }\n",
       "\n",
       "    .dataframe tbody tr th {\n",
       "        vertical-align: top;\n",
       "    }\n",
       "\n",
       "    .dataframe thead th {\n",
       "        text-align: right;\n",
       "    }\n",
       "</style>\n",
       "<table border=\"1\" class=\"dataframe\">\n",
       "  <thead>\n",
       "    <tr style=\"text-align: right;\">\n",
       "      <th></th>\n",
       "      <th>Total Number of Players</th>\n",
       "    </tr>\n",
       "  </thead>\n",
       "  <tbody>\n",
       "    <tr>\n",
       "      <th>0</th>\n",
       "      <td>576</td>\n",
       "    </tr>\n",
       "  </tbody>\n",
       "</table>\n",
       "</div>"
      ],
      "text/plain": [
       "   Total Number of Players\n",
       "0                      576"
      ]
     },
     "execution_count": 6,
     "metadata": {},
     "output_type": "execute_result"
    }
   ],
   "source": [
    "# Created a DataFrame that displays total # of players \n",
    "total_num_gamers_summary = pd.DataFrame({'Total Number of Players': [total_num_gamers]})\n",
    "total_num_gamers_summary"
   ]
  },
  {
   "cell_type": "raw",
   "metadata": {},
   "source": []
  },
  {
   "cell_type": "raw",
   "metadata": {},
   "source": []
  },
  {
   "cell_type": "code",
   "execution_count": 7,
   "metadata": {},
   "outputs": [],
   "source": [
    "#Used same method as in In[202] to grab all unique elements\n",
    "unique_item_id = data[\"Item ID\"].unique()"
   ]
  },
  {
   "cell_type": "code",
   "execution_count": 8,
   "metadata": {},
   "outputs": [
    {
     "data": {
      "text/plain": [
       "183"
      ]
     },
     "execution_count": 8,
     "metadata": {},
     "output_type": "execute_result"
    }
   ],
   "source": [
    "#used len function to find out how many values exist \n",
    "num_unique_items=len(unique_item_id)\n",
    "num_unique_items"
   ]
  },
  {
   "cell_type": "raw",
   "metadata": {},
   "source": []
  },
  {
   "cell_type": "code",
   "execution_count": 9,
   "metadata": {},
   "outputs": [],
   "source": [
    "#isolated the column with the prices \n",
    "price_column = data[\"Price\"]"
   ]
  },
  {
   "cell_type": "code",
   "execution_count": 10,
   "metadata": {},
   "outputs": [
    {
     "data": {
      "text/plain": [
       "2379.7699999999973"
      ]
     },
     "execution_count": 10,
     "metadata": {},
     "output_type": "execute_result"
    }
   ],
   "source": [
    "#took that column and used the mean function to get the average\n",
    "price_average = price_column.mean(axis=0)\n",
    "price_average\n",
    "\n",
    "# Used sum function to add the values of all cells in the price column\n",
    "total_revenue = sum(price_column)\n",
    "total_revenue"
   ]
  },
  {
   "cell_type": "raw",
   "metadata": {},
   "source": []
  },
  {
   "cell_type": "code",
   "execution_count": 11,
   "metadata": {},
   "outputs": [
    {
     "data": {
      "text/plain": [
       "780"
      ]
     },
     "execution_count": 11,
     "metadata": {},
     "output_type": "execute_result"
    }
   ],
   "source": [
    "# Used the len function to count the total number of rows in dataframe\n",
    "total_num_purchases = len(data)\n",
    "total_num_purchases"
   ]
  },
  {
   "cell_type": "raw",
   "metadata": {},
   "source": []
  },
  {
   "cell_type": "code",
   "execution_count": 12,
   "metadata": {
    "scrolled": true
   },
   "outputs": [
    {
     "data": {
      "text/html": [
       "<style  type=\"text/css\" >\n",
       "</style><table id=\"T_20167840_a36e_11e9_867c_38f9d35a0dce\" ><thead>    <tr>        <th class=\"blank level0\" ></th>        <th class=\"col_heading level0 col0\" ># of Unique Items</th>        <th class=\"col_heading level0 col1\" >Average Price</th>        <th class=\"col_heading level0 col2\" >Number of Purchases</th>        <th class=\"col_heading level0 col3\" >Total Revenue</th>    </tr></thead><tbody>\n",
       "                <tr>\n",
       "                        <th id=\"T_20167840_a36e_11e9_867c_38f9d35a0dcelevel0_row0\" class=\"row_heading level0 row0\" >0</th>\n",
       "                        <td id=\"T_20167840_a36e_11e9_867c_38f9d35a0dcerow0_col0\" class=\"data row0 col0\" >183</td>\n",
       "                        <td id=\"T_20167840_a36e_11e9_867c_38f9d35a0dcerow0_col1\" class=\"data row0 col1\" >$3.05</td>\n",
       "                        <td id=\"T_20167840_a36e_11e9_867c_38f9d35a0dcerow0_col2\" class=\"data row0 col2\" >780</td>\n",
       "                        <td id=\"T_20167840_a36e_11e9_867c_38f9d35a0dcerow0_col3\" class=\"data row0 col3\" >$2,379.77</td>\n",
       "            </tr>\n",
       "    </tbody></table>"
      ],
      "text/plain": [
       "<pandas.io.formats.style.Styler at 0x121f19748>"
      ]
     },
     "execution_count": 12,
     "metadata": {},
     "output_type": "execute_result"
    }
   ],
   "source": [
    "# Created a summary table \n",
    "purchasing_summary_table = pd.DataFrame({\n",
    "                                        \"# of Unique Items\":[num_unique_items],\n",
    "                                        \"Average Price\": [price_average],\n",
    "                                        \"Number of Purchases\": [total_num_purchases],\n",
    "                                        \"Total Revenue\": [total_revenue]\n",
    "                                        })\n",
    "\n",
    "purchasing_summary_table.style.format({\n",
    "                                       \"Average Price\":\"${:,.2f}\",\n",
    "                                       \"Total Revenue\":\"${:,.2f}\"\n",
    "                                      })\n"
   ]
  },
  {
   "cell_type": "raw",
   "metadata": {},
   "source": []
  },
  {
   "cell_type": "raw",
   "metadata": {},
   "source": []
  },
  {
   "cell_type": "code",
   "execution_count": 13,
   "metadata": {},
   "outputs": [],
   "source": [
    "# Used loc function to target male players and used len fucntion to count them \n",
    "male_gamers = data.loc[data[\"Gender\"] == \"Male\"]\n",
    "num_male_gamers = len(male_gamers[\"SN\"].unique())\n",
    "\n",
    "# Used loc function to target female players and used len fucntion to count them \n",
    "female_gamers = data.loc[data[\"Gender\"] == \"Female\"]\n",
    "num_female_gamers = len(female_gamers[\"SN\"].unique())\n",
    "\n",
    "# Used loc function to target other players and used len fucntion to count them \n",
    "other_gamers = data.loc[data[\"Gender\"] == \"Other / Non-Disclosed\"]\n",
    "num_other_gamers = len(other_gamers[\"SN\"].unique())"
   ]
  },
  {
   "cell_type": "code",
   "execution_count": 14,
   "metadata": {},
   "outputs": [
    {
     "data": {
      "text/plain": [
       "1.9097222222222223"
      ]
     },
     "execution_count": 14,
     "metadata": {},
     "output_type": "execute_result"
    }
   ],
   "source": [
    "# Used basic math to grab avg of each gender\n",
    "avg_male = (num_male_gamers / total_num_gamers) * 100 \n",
    "avg_male\n",
    "\n",
    "avg_female = (num_female_gamers / total_num_gamers) * 100\n",
    "avg_female\n",
    "\n",
    "avg_other = (num_other_gamers / total_num_gamers) * 100\n",
    "avg_other"
   ]
  },
  {
   "cell_type": "raw",
   "metadata": {},
   "source": []
  },
  {
   "cell_type": "code",
   "execution_count": 15,
   "metadata": {},
   "outputs": [],
   "source": [
    "# Created summary table using a data frame dictionary of lists\n",
    "demog_summary_table1 = pd.DataFrame({\n",
    "                                   \"Total Count\":[num_male_gamers,num_female_gamers, \n",
    "                                    num_other_gamers], \n",
    "                                   \"Percentage of Players\":[avg_male,avg_female,\n",
    "                                    avg_other]\n",
    "                                    })\n"
   ]
  },
  {
   "cell_type": "code",
   "execution_count": 16,
   "metadata": {},
   "outputs": [],
   "source": [
    "# In order to get the gender as the index, I created a new column\n",
    "demog_summary_table1[\" \"] = \"Male\",\"Female\",\"Other\""
   ]
  },
  {
   "cell_type": "code",
   "execution_count": 17,
   "metadata": {},
   "outputs": [
    {
     "data": {
      "text/html": [
       "<style  type=\"text/css\" >\n",
       "</style><table id=\"T_2025edca_a36e_11e9_867c_38f9d35a0dce\" ><thead>    <tr>        <th class=\"blank level0\" ></th>        <th class=\"col_heading level0 col0\" >Total Count</th>        <th class=\"col_heading level0 col1\" >Percentage of Players</th>    </tr>    <tr>        <th class=\"index_name level0\" > </th>        <th class=\"blank\" ></th>        <th class=\"blank\" ></th>    </tr></thead><tbody>\n",
       "                <tr>\n",
       "                        <th id=\"T_2025edca_a36e_11e9_867c_38f9d35a0dcelevel0_row0\" class=\"row_heading level0 row0\" >Male</th>\n",
       "                        <td id=\"T_2025edca_a36e_11e9_867c_38f9d35a0dcerow0_col0\" class=\"data row0 col0\" >484</td>\n",
       "                        <td id=\"T_2025edca_a36e_11e9_867c_38f9d35a0dcerow0_col1\" class=\"data row0 col1\" >84.03%</td>\n",
       "            </tr>\n",
       "            <tr>\n",
       "                        <th id=\"T_2025edca_a36e_11e9_867c_38f9d35a0dcelevel0_row1\" class=\"row_heading level0 row1\" >Female</th>\n",
       "                        <td id=\"T_2025edca_a36e_11e9_867c_38f9d35a0dcerow1_col0\" class=\"data row1 col0\" >81</td>\n",
       "                        <td id=\"T_2025edca_a36e_11e9_867c_38f9d35a0dcerow1_col1\" class=\"data row1 col1\" >14.06%</td>\n",
       "            </tr>\n",
       "            <tr>\n",
       "                        <th id=\"T_2025edca_a36e_11e9_867c_38f9d35a0dcelevel0_row2\" class=\"row_heading level0 row2\" >Other</th>\n",
       "                        <td id=\"T_2025edca_a36e_11e9_867c_38f9d35a0dcerow2_col0\" class=\"data row2 col0\" >11</td>\n",
       "                        <td id=\"T_2025edca_a36e_11e9_867c_38f9d35a0dcerow2_col1\" class=\"data row2 col1\" >1.91%</td>\n",
       "            </tr>\n",
       "    </tbody></table>"
      ],
      "text/plain": [
       "<pandas.io.formats.style.Styler at 0x123045c88>"
      ]
     },
     "execution_count": 17,
     "metadata": {},
     "output_type": "execute_result"
    }
   ],
   "source": [
    "# Used the set_index function to set that new column as the new index \n",
    "gender_summary_table = demog_summary_table1.set_index(' ')\n",
    "gender_summary_table.style.format({\"Percentage of Players\":\"{:,.2f}%\"})"
   ]
  },
  {
   "cell_type": "code",
   "execution_count": null,
   "metadata": {},
   "outputs": [],
   "source": []
  },
  {
   "cell_type": "code",
   "execution_count": null,
   "metadata": {},
   "outputs": [],
   "source": []
  },
  {
   "cell_type": "code",
   "execution_count": 18,
   "metadata": {},
   "outputs": [
    {
     "data": {
      "text/plain": [
       "15"
      ]
     },
     "execution_count": 18,
     "metadata": {},
     "output_type": "execute_result"
    }
   ],
   "source": [
    "#used len function & previously named variables to count total number of male/female/other purchases\n",
    "male_purchase_count = len(male_gamers)\n",
    "male_purchase_count\n",
    "\n",
    "female_purchase_count = len(female_gamers)\n",
    "female_purchase_count\n",
    "\n",
    "other_purchase_count = len(other_gamers)\n",
    "other_purchase_count"
   ]
  },
  {
   "cell_type": "code",
   "execution_count": null,
   "metadata": {},
   "outputs": [],
   "source": []
  },
  {
   "cell_type": "code",
   "execution_count": 19,
   "metadata": {},
   "outputs": [],
   "source": [
    "# Created a list with the amount of each individual male/female/other purchase, and also got the avg of each list\n",
    "male_purchases = male_gamers[\"Price\"]\n",
    "male_price_avg = male_purchases.mean(axis=0)\n",
    "\n",
    "female_purchases = female_gamers[\"Price\"]\n",
    "female_price_avg = female_purchases.mean(axis=0)\n",
    "\n",
    "other_purchases = other_gamers[\"Price\"]\n",
    "other_price_avg = other_purchases.mean(axis=0)"
   ]
  },
  {
   "cell_type": "code",
   "execution_count": null,
   "metadata": {},
   "outputs": [],
   "source": []
  },
  {
   "cell_type": "code",
   "execution_count": 20,
   "metadata": {},
   "outputs": [],
   "source": [
    "# Used sum function to get total purchase value by gender\n",
    "total_male_purchase_value = sum(male_purchases)\n",
    "\n",
    "total_female_purchase_value = sum(female_purchases)\n",
    "\n",
    "total_other_purchase_value = sum(other_purchases)"
   ]
  },
  {
   "cell_type": "code",
   "execution_count": null,
   "metadata": {},
   "outputs": [],
   "source": []
  },
  {
   "cell_type": "code",
   "execution_count": 21,
   "metadata": {},
   "outputs": [],
   "source": [
    "# Divided a variable that holds the total purchase value by another variable that holds the number a unique male/female/other\n",
    "avg_male_price_pp = total_male_purchase_value / num_male_gamers\n",
    "\n",
    "avg_female_price_pp = total_female_purchase_value / num_female_gamers\n",
    "\n",
    "avg_other_price_pp = total_other_purchase_value / num_other_gamers"
   ]
  },
  {
   "cell_type": "code",
   "execution_count": null,
   "metadata": {},
   "outputs": [],
   "source": []
  },
  {
   "cell_type": "code",
   "execution_count": 22,
   "metadata": {},
   "outputs": [],
   "source": [
    "#created df \n",
    "purchasing_analysis_by_gender_summary = pd.DataFrame({\n",
    "                                                     \n",
    "                                  \"Purchase Count\":[male_purchase_count, \n",
    "                                                   female_purchase_count, \n",
    "                                                   other_purchase_count],\n",
    "                                  \"Average Purchase Price\":[male_price_avg, \n",
    "                                                           female_price_avg, \n",
    "                                                           other_price_avg],\n",
    "                                  \"Total Purchase Price\":[total_male_purchase_value, \n",
    "                                                         total_female_purchase_value,\n",
    "                                                         total_other_purchase_value],\n",
    "                                   \"Avg Total Purchase Per Person\":[avg_male_price_pp, \n",
    "                                                                  avg_female_price_pp,\n",
    "                                                                  avg_other_price_pp]\n",
    "                                                    })\n",
    "\n"
   ]
  },
  {
   "cell_type": "code",
   "execution_count": 23,
   "metadata": {},
   "outputs": [
    {
     "data": {
      "text/html": [
       "<style  type=\"text/css\" >\n",
       "</style><table id=\"T_20380938_a36e_11e9_867c_38f9d35a0dce\" ><thead>    <tr>        <th class=\"blank level0\" ></th>        <th class=\"col_heading level0 col0\" >Purchase Count</th>        <th class=\"col_heading level0 col1\" >Average Purchase Price</th>        <th class=\"col_heading level0 col2\" >Total Purchase Price</th>        <th class=\"col_heading level0 col3\" >Avg Total Purchase Per Person</th>    </tr>    <tr>        <th class=\"index_name level0\" > </th>        <th class=\"blank\" ></th>        <th class=\"blank\" ></th>        <th class=\"blank\" ></th>        <th class=\"blank\" ></th>    </tr></thead><tbody>\n",
       "                <tr>\n",
       "                        <th id=\"T_20380938_a36e_11e9_867c_38f9d35a0dcelevel0_row0\" class=\"row_heading level0 row0\" >Male</th>\n",
       "                        <td id=\"T_20380938_a36e_11e9_867c_38f9d35a0dcerow0_col0\" class=\"data row0 col0\" >652</td>\n",
       "                        <td id=\"T_20380938_a36e_11e9_867c_38f9d35a0dcerow0_col1\" class=\"data row0 col1\" >$3.02</td>\n",
       "                        <td id=\"T_20380938_a36e_11e9_867c_38f9d35a0dcerow0_col2\" class=\"data row0 col2\" >$1,967.64</td>\n",
       "                        <td id=\"T_20380938_a36e_11e9_867c_38f9d35a0dcerow0_col3\" class=\"data row0 col3\" >$4.07</td>\n",
       "            </tr>\n",
       "            <tr>\n",
       "                        <th id=\"T_20380938_a36e_11e9_867c_38f9d35a0dcelevel0_row1\" class=\"row_heading level0 row1\" >Female</th>\n",
       "                        <td id=\"T_20380938_a36e_11e9_867c_38f9d35a0dcerow1_col0\" class=\"data row1 col0\" >113</td>\n",
       "                        <td id=\"T_20380938_a36e_11e9_867c_38f9d35a0dcerow1_col1\" class=\"data row1 col1\" >$3.20</td>\n",
       "                        <td id=\"T_20380938_a36e_11e9_867c_38f9d35a0dcerow1_col2\" class=\"data row1 col2\" >$361.94</td>\n",
       "                        <td id=\"T_20380938_a36e_11e9_867c_38f9d35a0dcerow1_col3\" class=\"data row1 col3\" >$4.47</td>\n",
       "            </tr>\n",
       "            <tr>\n",
       "                        <th id=\"T_20380938_a36e_11e9_867c_38f9d35a0dcelevel0_row2\" class=\"row_heading level0 row2\" >Other</th>\n",
       "                        <td id=\"T_20380938_a36e_11e9_867c_38f9d35a0dcerow2_col0\" class=\"data row2 col0\" >15</td>\n",
       "                        <td id=\"T_20380938_a36e_11e9_867c_38f9d35a0dcerow2_col1\" class=\"data row2 col1\" >$3.35</td>\n",
       "                        <td id=\"T_20380938_a36e_11e9_867c_38f9d35a0dcerow2_col2\" class=\"data row2 col2\" >$50.19</td>\n",
       "                        <td id=\"T_20380938_a36e_11e9_867c_38f9d35a0dcerow2_col3\" class=\"data row2 col3\" >$4.56</td>\n",
       "            </tr>\n",
       "    </tbody></table>"
      ],
      "text/plain": [
       "<pandas.io.formats.style.Styler at 0x123051748>"
      ]
     },
     "execution_count": 23,
     "metadata": {},
     "output_type": "execute_result"
    }
   ],
   "source": [
    "#formated df\n",
    "purchasing_analysis_by_gender_summary[\" \"] = \"Male\", \"Female\", \"Other\"\n",
    "\n",
    "purchasing_analysis_by_gender_summary = purchasing_analysis_by_gender_summary.set_index(\" \")\n",
    "\n",
    "purchasing_analysis_by_gender_summary.style.format({\"Average Purchase Price\":\"${:,.2f}\",\n",
    "                                                   \"Total Purchase Price\":\"${:,.2f}\",\n",
    "                                                   \"Avg Total Purchase Per Person\":\"${:,.2f}\"})\n",
    "\n"
   ]
  },
  {
   "cell_type": "code",
   "execution_count": null,
   "metadata": {},
   "outputs": [],
   "source": []
  },
  {
   "cell_type": "code",
   "execution_count": 24,
   "metadata": {},
   "outputs": [],
   "source": [
    "# Created bins\n",
    "bins = [0, 9.99, 14.99, 19.99, 24.99, 29.99, 34.99, 39.99, 5569]\n",
    "bin_names = ['< 10', '10-14', '15-19', '20-24', \"25-29\",\"30-34\",\"35-39\",\"40+\"]"
   ]
  },
  {
   "cell_type": "code",
   "execution_count": 25,
   "metadata": {},
   "outputs": [],
   "source": [
    "# used groupby to group df through \"Age Groups\"\n",
    "data[\"Age Groups\"] = pd.cut(data['Age'], bins, labels=bin_names)"
   ]
  },
  {
   "cell_type": "code",
   "execution_count": 26,
   "metadata": {},
   "outputs": [],
   "source": [
    "groupd_by_agegroup = data.groupby('Age Groups')\n",
    "\n",
    "\n",
    "age_group_count = groupd_by_agegroup[\"SN\"].nunique()\n",
    "\n",
    "\n",
    "percentage_by_age = (age_group_count/total_num_gamers) * 100"
   ]
  },
  {
   "cell_type": "code",
   "execution_count": 27,
   "metadata": {},
   "outputs": [
    {
     "data": {
      "text/html": [
       "<style  type=\"text/css\" >\n",
       "</style><table id=\"T_204af412_a36e_11e9_867c_38f9d35a0dce\" ><thead>    <tr>        <th class=\"blank level0\" ></th>        <th class=\"col_heading level0 col0\" >Percentage of Players</th>        <th class=\"col_heading level0 col1\" >Total Count</th>    </tr>    <tr>        <th class=\"index_name level0\" >Age Groups</th>        <th class=\"blank\" ></th>        <th class=\"blank\" ></th>    </tr></thead><tbody>\n",
       "                <tr>\n",
       "                        <th id=\"T_204af412_a36e_11e9_867c_38f9d35a0dcelevel0_row0\" class=\"row_heading level0 row0\" >< 10</th>\n",
       "                        <td id=\"T_204af412_a36e_11e9_867c_38f9d35a0dcerow0_col0\" class=\"data row0 col0\" >2.95</td>\n",
       "                        <td id=\"T_204af412_a36e_11e9_867c_38f9d35a0dcerow0_col1\" class=\"data row0 col1\" >17</td>\n",
       "            </tr>\n",
       "            <tr>\n",
       "                        <th id=\"T_204af412_a36e_11e9_867c_38f9d35a0dcelevel0_row1\" class=\"row_heading level0 row1\" >10-14</th>\n",
       "                        <td id=\"T_204af412_a36e_11e9_867c_38f9d35a0dcerow1_col0\" class=\"data row1 col0\" >3.82</td>\n",
       "                        <td id=\"T_204af412_a36e_11e9_867c_38f9d35a0dcerow1_col1\" class=\"data row1 col1\" >22</td>\n",
       "            </tr>\n",
       "            <tr>\n",
       "                        <th id=\"T_204af412_a36e_11e9_867c_38f9d35a0dcelevel0_row2\" class=\"row_heading level0 row2\" >15-19</th>\n",
       "                        <td id=\"T_204af412_a36e_11e9_867c_38f9d35a0dcerow2_col0\" class=\"data row2 col0\" >18.58</td>\n",
       "                        <td id=\"T_204af412_a36e_11e9_867c_38f9d35a0dcerow2_col1\" class=\"data row2 col1\" >107</td>\n",
       "            </tr>\n",
       "            <tr>\n",
       "                        <th id=\"T_204af412_a36e_11e9_867c_38f9d35a0dcelevel0_row3\" class=\"row_heading level0 row3\" >20-24</th>\n",
       "                        <td id=\"T_204af412_a36e_11e9_867c_38f9d35a0dcerow3_col0\" class=\"data row3 col0\" >44.79</td>\n",
       "                        <td id=\"T_204af412_a36e_11e9_867c_38f9d35a0dcerow3_col1\" class=\"data row3 col1\" >258</td>\n",
       "            </tr>\n",
       "            <tr>\n",
       "                        <th id=\"T_204af412_a36e_11e9_867c_38f9d35a0dcelevel0_row4\" class=\"row_heading level0 row4\" >25-29</th>\n",
       "                        <td id=\"T_204af412_a36e_11e9_867c_38f9d35a0dcerow4_col0\" class=\"data row4 col0\" >13.37</td>\n",
       "                        <td id=\"T_204af412_a36e_11e9_867c_38f9d35a0dcerow4_col1\" class=\"data row4 col1\" >77</td>\n",
       "            </tr>\n",
       "            <tr>\n",
       "                        <th id=\"T_204af412_a36e_11e9_867c_38f9d35a0dcelevel0_row5\" class=\"row_heading level0 row5\" >30-34</th>\n",
       "                        <td id=\"T_204af412_a36e_11e9_867c_38f9d35a0dcerow5_col0\" class=\"data row5 col0\" >9.03</td>\n",
       "                        <td id=\"T_204af412_a36e_11e9_867c_38f9d35a0dcerow5_col1\" class=\"data row5 col1\" >52</td>\n",
       "            </tr>\n",
       "            <tr>\n",
       "                        <th id=\"T_204af412_a36e_11e9_867c_38f9d35a0dcelevel0_row6\" class=\"row_heading level0 row6\" >35-39</th>\n",
       "                        <td id=\"T_204af412_a36e_11e9_867c_38f9d35a0dcerow6_col0\" class=\"data row6 col0\" >5.38</td>\n",
       "                        <td id=\"T_204af412_a36e_11e9_867c_38f9d35a0dcerow6_col1\" class=\"data row6 col1\" >31</td>\n",
       "            </tr>\n",
       "            <tr>\n",
       "                        <th id=\"T_204af412_a36e_11e9_867c_38f9d35a0dcelevel0_row7\" class=\"row_heading level0 row7\" >40+</th>\n",
       "                        <td id=\"T_204af412_a36e_11e9_867c_38f9d35a0dcerow7_col0\" class=\"data row7 col0\" >2.08</td>\n",
       "                        <td id=\"T_204af412_a36e_11e9_867c_38f9d35a0dcerow7_col1\" class=\"data row7 col1\" >12</td>\n",
       "            </tr>\n",
       "    </tbody></table>"
      ],
      "text/plain": [
       "<pandas.io.formats.style.Styler at 0x1230ae9b0>"
      ]
     },
     "execution_count": 27,
     "metadata": {},
     "output_type": "execute_result"
    }
   ],
   "source": [
    "# created df based off of my groupby\n",
    "age_demographics = pd.DataFrame({\"Percentage of Players\": percentage_by_age, \n",
    "                                 \"Total Count\": age_group_count})\n",
    "\n",
    "age_demographics.style.format({\"Percentage of Players\":\"{:,.2f}\"})"
   ]
  },
  {
   "cell_type": "code",
   "execution_count": null,
   "metadata": {},
   "outputs": [],
   "source": []
  },
  {
   "cell_type": "code",
   "execution_count": 28,
   "metadata": {},
   "outputs": [],
   "source": [
    "#used above groupby to find count, mean, sum, avg\n",
    "purchase_count = groupd_by_agegroup['SN'].count()\n",
    "\n",
    "avg_purchase_price = groupd_by_agegroup['Price'].mean()\n",
    "\n",
    "total_purchase_value = groupd_by_agegroup['Price'].sum()\n",
    "\n",
    "avg_purchase_pp = total_purchase_value / age_group_count"
   ]
  },
  {
   "cell_type": "code",
   "execution_count": 29,
   "metadata": {},
   "outputs": [
    {
     "data": {
      "text/html": [
       "<style  type=\"text/css\" >\n",
       "</style><table id=\"T_2052dede_a36e_11e9_867c_38f9d35a0dce\" ><thead>    <tr>        <th class=\"blank level0\" ></th>        <th class=\"col_heading level0 col0\" >Purchase Count</th>        <th class=\"col_heading level0 col1\" >Average Purchase Price</th>        <th class=\"col_heading level0 col2\" >Total Purchase Value</th>        <th class=\"col_heading level0 col3\" >Avg Total Purchase Per Person</th>    </tr>    <tr>        <th class=\"index_name level0\" >Age Groups</th>        <th class=\"blank\" ></th>        <th class=\"blank\" ></th>        <th class=\"blank\" ></th>        <th class=\"blank\" ></th>    </tr></thead><tbody>\n",
       "                <tr>\n",
       "                        <th id=\"T_2052dede_a36e_11e9_867c_38f9d35a0dcelevel0_row0\" class=\"row_heading level0 row0\" >< 10</th>\n",
       "                        <td id=\"T_2052dede_a36e_11e9_867c_38f9d35a0dcerow0_col0\" class=\"data row0 col0\" >23</td>\n",
       "                        <td id=\"T_2052dede_a36e_11e9_867c_38f9d35a0dcerow0_col1\" class=\"data row0 col1\" >$3.35</td>\n",
       "                        <td id=\"T_2052dede_a36e_11e9_867c_38f9d35a0dcerow0_col2\" class=\"data row0 col2\" >$77.13</td>\n",
       "                        <td id=\"T_2052dede_a36e_11e9_867c_38f9d35a0dcerow0_col3\" class=\"data row0 col3\" >$4.54</td>\n",
       "            </tr>\n",
       "            <tr>\n",
       "                        <th id=\"T_2052dede_a36e_11e9_867c_38f9d35a0dcelevel0_row1\" class=\"row_heading level0 row1\" >10-14</th>\n",
       "                        <td id=\"T_2052dede_a36e_11e9_867c_38f9d35a0dcerow1_col0\" class=\"data row1 col0\" >28</td>\n",
       "                        <td id=\"T_2052dede_a36e_11e9_867c_38f9d35a0dcerow1_col1\" class=\"data row1 col1\" >$2.96</td>\n",
       "                        <td id=\"T_2052dede_a36e_11e9_867c_38f9d35a0dcerow1_col2\" class=\"data row1 col2\" >$82.78</td>\n",
       "                        <td id=\"T_2052dede_a36e_11e9_867c_38f9d35a0dcerow1_col3\" class=\"data row1 col3\" >$3.76</td>\n",
       "            </tr>\n",
       "            <tr>\n",
       "                        <th id=\"T_2052dede_a36e_11e9_867c_38f9d35a0dcelevel0_row2\" class=\"row_heading level0 row2\" >15-19</th>\n",
       "                        <td id=\"T_2052dede_a36e_11e9_867c_38f9d35a0dcerow2_col0\" class=\"data row2 col0\" >136</td>\n",
       "                        <td id=\"T_2052dede_a36e_11e9_867c_38f9d35a0dcerow2_col1\" class=\"data row2 col1\" >$3.04</td>\n",
       "                        <td id=\"T_2052dede_a36e_11e9_867c_38f9d35a0dcerow2_col2\" class=\"data row2 col2\" >$412.89</td>\n",
       "                        <td id=\"T_2052dede_a36e_11e9_867c_38f9d35a0dcerow2_col3\" class=\"data row2 col3\" >$3.86</td>\n",
       "            </tr>\n",
       "            <tr>\n",
       "                        <th id=\"T_2052dede_a36e_11e9_867c_38f9d35a0dcelevel0_row3\" class=\"row_heading level0 row3\" >20-24</th>\n",
       "                        <td id=\"T_2052dede_a36e_11e9_867c_38f9d35a0dcerow3_col0\" class=\"data row3 col0\" >365</td>\n",
       "                        <td id=\"T_2052dede_a36e_11e9_867c_38f9d35a0dcerow3_col1\" class=\"data row3 col1\" >$3.05</td>\n",
       "                        <td id=\"T_2052dede_a36e_11e9_867c_38f9d35a0dcerow3_col2\" class=\"data row3 col2\" >$1,114.06</td>\n",
       "                        <td id=\"T_2052dede_a36e_11e9_867c_38f9d35a0dcerow3_col3\" class=\"data row3 col3\" >$4.32</td>\n",
       "            </tr>\n",
       "            <tr>\n",
       "                        <th id=\"T_2052dede_a36e_11e9_867c_38f9d35a0dcelevel0_row4\" class=\"row_heading level0 row4\" >25-29</th>\n",
       "                        <td id=\"T_2052dede_a36e_11e9_867c_38f9d35a0dcerow4_col0\" class=\"data row4 col0\" >101</td>\n",
       "                        <td id=\"T_2052dede_a36e_11e9_867c_38f9d35a0dcerow4_col1\" class=\"data row4 col1\" >$2.90</td>\n",
       "                        <td id=\"T_2052dede_a36e_11e9_867c_38f9d35a0dcerow4_col2\" class=\"data row4 col2\" >$293.00</td>\n",
       "                        <td id=\"T_2052dede_a36e_11e9_867c_38f9d35a0dcerow4_col3\" class=\"data row4 col3\" >$3.81</td>\n",
       "            </tr>\n",
       "            <tr>\n",
       "                        <th id=\"T_2052dede_a36e_11e9_867c_38f9d35a0dcelevel0_row5\" class=\"row_heading level0 row5\" >30-34</th>\n",
       "                        <td id=\"T_2052dede_a36e_11e9_867c_38f9d35a0dcerow5_col0\" class=\"data row5 col0\" >73</td>\n",
       "                        <td id=\"T_2052dede_a36e_11e9_867c_38f9d35a0dcerow5_col1\" class=\"data row5 col1\" >$2.93</td>\n",
       "                        <td id=\"T_2052dede_a36e_11e9_867c_38f9d35a0dcerow5_col2\" class=\"data row5 col2\" >$214.00</td>\n",
       "                        <td id=\"T_2052dede_a36e_11e9_867c_38f9d35a0dcerow5_col3\" class=\"data row5 col3\" >$4.12</td>\n",
       "            </tr>\n",
       "            <tr>\n",
       "                        <th id=\"T_2052dede_a36e_11e9_867c_38f9d35a0dcelevel0_row6\" class=\"row_heading level0 row6\" >35-39</th>\n",
       "                        <td id=\"T_2052dede_a36e_11e9_867c_38f9d35a0dcerow6_col0\" class=\"data row6 col0\" >41</td>\n",
       "                        <td id=\"T_2052dede_a36e_11e9_867c_38f9d35a0dcerow6_col1\" class=\"data row6 col1\" >$3.60</td>\n",
       "                        <td id=\"T_2052dede_a36e_11e9_867c_38f9d35a0dcerow6_col2\" class=\"data row6 col2\" >$147.67</td>\n",
       "                        <td id=\"T_2052dede_a36e_11e9_867c_38f9d35a0dcerow6_col3\" class=\"data row6 col3\" >$4.76</td>\n",
       "            </tr>\n",
       "            <tr>\n",
       "                        <th id=\"T_2052dede_a36e_11e9_867c_38f9d35a0dcelevel0_row7\" class=\"row_heading level0 row7\" >40+</th>\n",
       "                        <td id=\"T_2052dede_a36e_11e9_867c_38f9d35a0dcerow7_col0\" class=\"data row7 col0\" >13</td>\n",
       "                        <td id=\"T_2052dede_a36e_11e9_867c_38f9d35a0dcerow7_col1\" class=\"data row7 col1\" >$2.94</td>\n",
       "                        <td id=\"T_2052dede_a36e_11e9_867c_38f9d35a0dcerow7_col2\" class=\"data row7 col2\" >$38.24</td>\n",
       "                        <td id=\"T_2052dede_a36e_11e9_867c_38f9d35a0dcerow7_col3\" class=\"data row7 col3\" >$3.19</td>\n",
       "            </tr>\n",
       "    </tbody></table>"
      ],
      "text/plain": [
       "<pandas.io.formats.style.Styler at 0x1230d1748>"
      ]
     },
     "execution_count": 29,
     "metadata": {},
     "output_type": "execute_result"
    }
   ],
   "source": [
    "#created df\n",
    "summary_table_age = pd.DataFrame({\"Purchase Count\": purchase_count, \n",
    "                                  \"Average Purchase Price\": avg_purchase_price, \n",
    "                                  \"Total Purchase Value\" : total_purchase_value, \n",
    "                                  \"Avg Total Purchase Per Person\": avg_purchase_pp})\n",
    "\n",
    "summary_table_age.style.format({\"Average Purchase Price\":\"${:,.2f}\",\n",
    "                               \"Total Purchase Value\":\"${:,.2f}\",\n",
    "                               \"Avg Total Purchase Per Person\":\"${:,.2f}\"})"
   ]
  },
  {
   "cell_type": "code",
   "execution_count": null,
   "metadata": {},
   "outputs": [],
   "source": []
  },
  {
   "cell_type": "code",
   "execution_count": null,
   "metadata": {},
   "outputs": [],
   "source": []
  },
  {
   "cell_type": "code",
   "execution_count": 30,
   "metadata": {},
   "outputs": [],
   "source": [
    "#created another groupby based on \"SN\"\n",
    "groupd_by_sn = data.groupby('SN')"
   ]
  },
  {
   "cell_type": "code",
   "execution_count": 31,
   "metadata": {},
   "outputs": [],
   "source": [
    "#used groupby to find sum, mean, \"SN\"\n",
    "total_purchase_value_sn = groupd_by_sn['Price'].sum()\n",
    "\n",
    "\n",
    "avg_purchase_price_sn = groupd_by_sn['Price'].mean()\n",
    "\n",
    "\n",
    "purchase_count_sn = groupd_by_sn[\"SN\"].count()\n"
   ]
  },
  {
   "cell_type": "code",
   "execution_count": 32,
   "metadata": {},
   "outputs": [
    {
     "data": {
      "text/html": [
       "<style  type=\"text/css\" >\n",
       "</style><table id=\"T_205d20b0_a36e_11e9_867c_38f9d35a0dce\" ><thead>    <tr>        <th class=\"blank level0\" ></th>        <th class=\"col_heading level0 col0\" >Purchase Count</th>        <th class=\"col_heading level0 col1\" >Average Purchase Price</th>        <th class=\"col_heading level0 col2\" >Total Purchase Value</th>    </tr>    <tr>        <th class=\"index_name level0\" >SN</th>        <th class=\"blank\" ></th>        <th class=\"blank\" ></th>        <th class=\"blank\" ></th>    </tr></thead><tbody>\n",
       "                <tr>\n",
       "                        <th id=\"T_205d20b0_a36e_11e9_867c_38f9d35a0dcelevel0_row0\" class=\"row_heading level0 row0\" >Lisosia93</th>\n",
       "                        <td id=\"T_205d20b0_a36e_11e9_867c_38f9d35a0dcerow0_col0\" class=\"data row0 col0\" >5</td>\n",
       "                        <td id=\"T_205d20b0_a36e_11e9_867c_38f9d35a0dcerow0_col1\" class=\"data row0 col1\" >$3.79</td>\n",
       "                        <td id=\"T_205d20b0_a36e_11e9_867c_38f9d35a0dcerow0_col2\" class=\"data row0 col2\" >$18.96</td>\n",
       "            </tr>\n",
       "            <tr>\n",
       "                        <th id=\"T_205d20b0_a36e_11e9_867c_38f9d35a0dcelevel0_row1\" class=\"row_heading level0 row1\" >Idastidru52</th>\n",
       "                        <td id=\"T_205d20b0_a36e_11e9_867c_38f9d35a0dcerow1_col0\" class=\"data row1 col0\" >4</td>\n",
       "                        <td id=\"T_205d20b0_a36e_11e9_867c_38f9d35a0dcerow1_col1\" class=\"data row1 col1\" >$3.86</td>\n",
       "                        <td id=\"T_205d20b0_a36e_11e9_867c_38f9d35a0dcerow1_col2\" class=\"data row1 col2\" >$15.45</td>\n",
       "            </tr>\n",
       "            <tr>\n",
       "                        <th id=\"T_205d20b0_a36e_11e9_867c_38f9d35a0dcelevel0_row2\" class=\"row_heading level0 row2\" >Chamjask73</th>\n",
       "                        <td id=\"T_205d20b0_a36e_11e9_867c_38f9d35a0dcerow2_col0\" class=\"data row2 col0\" >3</td>\n",
       "                        <td id=\"T_205d20b0_a36e_11e9_867c_38f9d35a0dcerow2_col1\" class=\"data row2 col1\" >$4.61</td>\n",
       "                        <td id=\"T_205d20b0_a36e_11e9_867c_38f9d35a0dcerow2_col2\" class=\"data row2 col2\" >$13.83</td>\n",
       "            </tr>\n",
       "            <tr>\n",
       "                        <th id=\"T_205d20b0_a36e_11e9_867c_38f9d35a0dcelevel0_row3\" class=\"row_heading level0 row3\" >Iral74</th>\n",
       "                        <td id=\"T_205d20b0_a36e_11e9_867c_38f9d35a0dcerow3_col0\" class=\"data row3 col0\" >4</td>\n",
       "                        <td id=\"T_205d20b0_a36e_11e9_867c_38f9d35a0dcerow3_col1\" class=\"data row3 col1\" >$3.40</td>\n",
       "                        <td id=\"T_205d20b0_a36e_11e9_867c_38f9d35a0dcerow3_col2\" class=\"data row3 col2\" >$13.62</td>\n",
       "            </tr>\n",
       "            <tr>\n",
       "                        <th id=\"T_205d20b0_a36e_11e9_867c_38f9d35a0dcelevel0_row4\" class=\"row_heading level0 row4\" >Iskadarya95</th>\n",
       "                        <td id=\"T_205d20b0_a36e_11e9_867c_38f9d35a0dcerow4_col0\" class=\"data row4 col0\" >3</td>\n",
       "                        <td id=\"T_205d20b0_a36e_11e9_867c_38f9d35a0dcerow4_col1\" class=\"data row4 col1\" >$4.37</td>\n",
       "                        <td id=\"T_205d20b0_a36e_11e9_867c_38f9d35a0dcerow4_col2\" class=\"data row4 col2\" >$13.10</td>\n",
       "            </tr>\n",
       "    </tbody></table>"
      ],
      "text/plain": [
       "<pandas.io.formats.style.Styler at 0x1230dff60>"
      ]
     },
     "execution_count": 32,
     "metadata": {},
     "output_type": "execute_result"
    }
   ],
   "source": [
    "#created df and also changed format using style.format\n",
    "summary_table_sn = pd.DataFrame({\"Purchase Count\": purchase_count_sn, \n",
    "                                 \"Average Purchase Price\": avg_purchase_price_sn, \n",
    "                                  \"Total Purchase Value\" : total_purchase_value_sn,})\n",
    "\n",
    "summary_table_sn = summary_table_sn.sort_values(by='Total Purchase Value', ascending=False).head()\n",
    "\n",
    "summary_table_sn.style.format({\"Average Purchase Price\":\"${:,.2f}\",\n",
    "                              \"Total Purchase Value\":\"${:,.2f}\"})\n",
    "\n",
    "\n",
    "\n"
   ]
  },
  {
   "cell_type": "code",
   "execution_count": null,
   "metadata": {},
   "outputs": [],
   "source": []
  },
  {
   "cell_type": "code",
   "execution_count": 33,
   "metadata": {},
   "outputs": [],
   "source": [
    "#used groupby to group data on \"Item ID\" and \"Item Name\", used groupby to find count, unique, sum\n",
    "groupd_by_id = data.groupby([\"Item ID\", \"Item Name\"])\n",
    "\n",
    "purchase_count_id = groupd_by_id['Item Name'].count()\n",
    "\n",
    "item_price = groupd_by_id['Price'].unique()\n",
    "\n",
    "total_purchase_value_id = groupd_by_id['Price'].sum()\n"
   ]
  },
  {
   "cell_type": "code",
   "execution_count": 34,
   "metadata": {},
   "outputs": [
    {
     "data": {
      "text/html": [
       "<style  type=\"text/css\" >\n",
       "</style><table id=\"T_207b69c6_a36e_11e9_867c_38f9d35a0dce\" ><thead>    <tr>        <th class=\"blank\" ></th>        <th class=\"blank level0\" ></th>        <th class=\"col_heading level0 col0\" >Purchase Count</th>        <th class=\"col_heading level0 col1\" >Item Price</th>        <th class=\"col_heading level0 col2\" >Total Purchase Value</th>    </tr>    <tr>        <th class=\"index_name level0\" >Item ID</th>        <th class=\"index_name level1\" >Item Name</th>        <th class=\"blank\" ></th>        <th class=\"blank\" ></th>        <th class=\"blank\" ></th>    </tr></thead><tbody>\n",
       "                <tr>\n",
       "                        <th id=\"T_207b69c6_a36e_11e9_867c_38f9d35a0dcelevel0_row0\" class=\"row_heading level0 row0\" >178</th>\n",
       "                        <th id=\"T_207b69c6_a36e_11e9_867c_38f9d35a0dcelevel1_row0\" class=\"row_heading level1 row0\" >Oathbreaker, Last Hope of the Breaking Storm</th>\n",
       "                        <td id=\"T_207b69c6_a36e_11e9_867c_38f9d35a0dcerow0_col0\" class=\"data row0 col0\" >12</td>\n",
       "                        <td id=\"T_207b69c6_a36e_11e9_867c_38f9d35a0dcerow0_col1\" class=\"data row0 col1\" >[4.23]</td>\n",
       "                        <td id=\"T_207b69c6_a36e_11e9_867c_38f9d35a0dcerow0_col2\" class=\"data row0 col2\" >$50.76</td>\n",
       "            </tr>\n",
       "            <tr>\n",
       "                        <th id=\"T_207b69c6_a36e_11e9_867c_38f9d35a0dcelevel0_row1\" class=\"row_heading level0 row1\" >145</th>\n",
       "                        <th id=\"T_207b69c6_a36e_11e9_867c_38f9d35a0dcelevel1_row1\" class=\"row_heading level1 row1\" >Fiery Glass Crusader</th>\n",
       "                        <td id=\"T_207b69c6_a36e_11e9_867c_38f9d35a0dcerow1_col0\" class=\"data row1 col0\" >9</td>\n",
       "                        <td id=\"T_207b69c6_a36e_11e9_867c_38f9d35a0dcerow1_col1\" class=\"data row1 col1\" >[4.58]</td>\n",
       "                        <td id=\"T_207b69c6_a36e_11e9_867c_38f9d35a0dcerow1_col2\" class=\"data row1 col2\" >$41.22</td>\n",
       "            </tr>\n",
       "            <tr>\n",
       "                        <th id=\"T_207b69c6_a36e_11e9_867c_38f9d35a0dcelevel0_row2\" class=\"row_heading level0 row2\" >108</th>\n",
       "                        <th id=\"T_207b69c6_a36e_11e9_867c_38f9d35a0dcelevel1_row2\" class=\"row_heading level1 row2\" >Extraction, Quickblade Of Trembling Hands</th>\n",
       "                        <td id=\"T_207b69c6_a36e_11e9_867c_38f9d35a0dcerow2_col0\" class=\"data row2 col0\" >9</td>\n",
       "                        <td id=\"T_207b69c6_a36e_11e9_867c_38f9d35a0dcerow2_col1\" class=\"data row2 col1\" >[3.53]</td>\n",
       "                        <td id=\"T_207b69c6_a36e_11e9_867c_38f9d35a0dcerow2_col2\" class=\"data row2 col2\" >$31.77</td>\n",
       "            </tr>\n",
       "            <tr>\n",
       "                        <th id=\"T_207b69c6_a36e_11e9_867c_38f9d35a0dcelevel0_row3\" class=\"row_heading level0 row3\" >82</th>\n",
       "                        <th id=\"T_207b69c6_a36e_11e9_867c_38f9d35a0dcelevel1_row3\" class=\"row_heading level1 row3\" >Nirvana</th>\n",
       "                        <td id=\"T_207b69c6_a36e_11e9_867c_38f9d35a0dcerow3_col0\" class=\"data row3 col0\" >9</td>\n",
       "                        <td id=\"T_207b69c6_a36e_11e9_867c_38f9d35a0dcerow3_col1\" class=\"data row3 col1\" >[4.9]</td>\n",
       "                        <td id=\"T_207b69c6_a36e_11e9_867c_38f9d35a0dcerow3_col2\" class=\"data row3 col2\" >$44.10</td>\n",
       "            </tr>\n",
       "            <tr>\n",
       "                        <th id=\"T_207b69c6_a36e_11e9_867c_38f9d35a0dcelevel0_row4\" class=\"row_heading level0 row4\" >19</th>\n",
       "                        <th id=\"T_207b69c6_a36e_11e9_867c_38f9d35a0dcelevel1_row4\" class=\"row_heading level1 row4\" >Pursuit, Cudgel of Necromancy</th>\n",
       "                        <td id=\"T_207b69c6_a36e_11e9_867c_38f9d35a0dcerow4_col0\" class=\"data row4 col0\" >8</td>\n",
       "                        <td id=\"T_207b69c6_a36e_11e9_867c_38f9d35a0dcerow4_col1\" class=\"data row4 col1\" >[1.02]</td>\n",
       "                        <td id=\"T_207b69c6_a36e_11e9_867c_38f9d35a0dcerow4_col2\" class=\"data row4 col2\" >$8.16</td>\n",
       "            </tr>\n",
       "    </tbody></table>"
      ],
      "text/plain": [
       "<pandas.io.formats.style.Styler at 0x1230d1518>"
      ]
     },
     "execution_count": 34,
     "metadata": {},
     "output_type": "execute_result"
    }
   ],
   "source": [
    "#created df\n",
    "summary_table_id = pd.DataFrame({'Purchase Count': purchase_count_id, \n",
    "                                 'Item Price': item_price,\n",
    "                                'Total Purchase Value': total_purchase_value_id})\n",
    "\n",
    "summary_table_id = summary_table_id.sort_values(by='Purchase Count', ascending=False).head()\n",
    "\n",
    "summary_table_id.style.format({\"Total Purchase Value\":\"${:,.2f}\"})\n"
   ]
  },
  {
   "cell_type": "code",
   "execution_count": null,
   "metadata": {},
   "outputs": [],
   "source": []
  },
  {
   "cell_type": "code",
   "execution_count": 35,
   "metadata": {},
   "outputs": [
    {
     "data": {
      "text/html": [
       "<style  type=\"text/css\" >\n",
       "</style><table id=\"T_2081058e_a36e_11e9_867c_38f9d35a0dce\" ><thead>    <tr>        <th class=\"blank\" ></th>        <th class=\"blank level0\" ></th>        <th class=\"col_heading level0 col0\" >Purchase Count</th>        <th class=\"col_heading level0 col1\" >Item Price</th>        <th class=\"col_heading level0 col2\" >Total Purchase Value</th>    </tr>    <tr>        <th class=\"index_name level0\" >Item ID</th>        <th class=\"index_name level1\" >Item Name</th>        <th class=\"blank\" ></th>        <th class=\"blank\" ></th>        <th class=\"blank\" ></th>    </tr></thead><tbody>\n",
       "                <tr>\n",
       "                        <th id=\"T_2081058e_a36e_11e9_867c_38f9d35a0dcelevel0_row0\" class=\"row_heading level0 row0\" >178</th>\n",
       "                        <th id=\"T_2081058e_a36e_11e9_867c_38f9d35a0dcelevel1_row0\" class=\"row_heading level1 row0\" >Oathbreaker, Last Hope of the Breaking Storm</th>\n",
       "                        <td id=\"T_2081058e_a36e_11e9_867c_38f9d35a0dcerow0_col0\" class=\"data row0 col0\" >12</td>\n",
       "                        <td id=\"T_2081058e_a36e_11e9_867c_38f9d35a0dcerow0_col1\" class=\"data row0 col1\" >[4.23]</td>\n",
       "                        <td id=\"T_2081058e_a36e_11e9_867c_38f9d35a0dcerow0_col2\" class=\"data row0 col2\" >$50.76</td>\n",
       "            </tr>\n",
       "            <tr>\n",
       "                        <th id=\"T_2081058e_a36e_11e9_867c_38f9d35a0dcelevel0_row1\" class=\"row_heading level0 row1\" >82</th>\n",
       "                        <th id=\"T_2081058e_a36e_11e9_867c_38f9d35a0dcelevel1_row1\" class=\"row_heading level1 row1\" >Nirvana</th>\n",
       "                        <td id=\"T_2081058e_a36e_11e9_867c_38f9d35a0dcerow1_col0\" class=\"data row1 col0\" >9</td>\n",
       "                        <td id=\"T_2081058e_a36e_11e9_867c_38f9d35a0dcerow1_col1\" class=\"data row1 col1\" >[4.9]</td>\n",
       "                        <td id=\"T_2081058e_a36e_11e9_867c_38f9d35a0dcerow1_col2\" class=\"data row1 col2\" >$44.10</td>\n",
       "            </tr>\n",
       "            <tr>\n",
       "                        <th id=\"T_2081058e_a36e_11e9_867c_38f9d35a0dcelevel0_row2\" class=\"row_heading level0 row2\" >145</th>\n",
       "                        <th id=\"T_2081058e_a36e_11e9_867c_38f9d35a0dcelevel1_row2\" class=\"row_heading level1 row2\" >Fiery Glass Crusader</th>\n",
       "                        <td id=\"T_2081058e_a36e_11e9_867c_38f9d35a0dcerow2_col0\" class=\"data row2 col0\" >9</td>\n",
       "                        <td id=\"T_2081058e_a36e_11e9_867c_38f9d35a0dcerow2_col1\" class=\"data row2 col1\" >[4.58]</td>\n",
       "                        <td id=\"T_2081058e_a36e_11e9_867c_38f9d35a0dcerow2_col2\" class=\"data row2 col2\" >$41.22</td>\n",
       "            </tr>\n",
       "            <tr>\n",
       "                        <th id=\"T_2081058e_a36e_11e9_867c_38f9d35a0dcelevel0_row3\" class=\"row_heading level0 row3\" >108</th>\n",
       "                        <th id=\"T_2081058e_a36e_11e9_867c_38f9d35a0dcelevel1_row3\" class=\"row_heading level1 row3\" >Extraction, Quickblade Of Trembling Hands</th>\n",
       "                        <td id=\"T_2081058e_a36e_11e9_867c_38f9d35a0dcerow3_col0\" class=\"data row3 col0\" >9</td>\n",
       "                        <td id=\"T_2081058e_a36e_11e9_867c_38f9d35a0dcerow3_col1\" class=\"data row3 col1\" >[3.53]</td>\n",
       "                        <td id=\"T_2081058e_a36e_11e9_867c_38f9d35a0dcerow3_col2\" class=\"data row3 col2\" >$31.77</td>\n",
       "            </tr>\n",
       "            <tr>\n",
       "                        <th id=\"T_2081058e_a36e_11e9_867c_38f9d35a0dcelevel0_row4\" class=\"row_heading level0 row4\" >19</th>\n",
       "                        <th id=\"T_2081058e_a36e_11e9_867c_38f9d35a0dcelevel1_row4\" class=\"row_heading level1 row4\" >Pursuit, Cudgel of Necromancy</th>\n",
       "                        <td id=\"T_2081058e_a36e_11e9_867c_38f9d35a0dcerow4_col0\" class=\"data row4 col0\" >8</td>\n",
       "                        <td id=\"T_2081058e_a36e_11e9_867c_38f9d35a0dcerow4_col1\" class=\"data row4 col1\" >[1.02]</td>\n",
       "                        <td id=\"T_2081058e_a36e_11e9_867c_38f9d35a0dcerow4_col2\" class=\"data row4 col2\" >$8.16</td>\n",
       "            </tr>\n",
       "    </tbody></table>"
      ],
      "text/plain": [
       "<pandas.io.formats.style.Styler at 0x123068b00>"
      ]
     },
     "execution_count": 35,
     "metadata": {},
     "output_type": "execute_result"
    }
   ],
   "source": [
    "#created same df but sorted by 'total purchase value' instead of 'purchase count'\n",
    "summary_table_id_d = pd.DataFrame({'Purchase Count': purchase_count_id, \n",
    "                                   'Item Price': item_price,\n",
    "                                   'Total Purchase Value': total_purchase_value_id})\n",
    "\n",
    "summary_table_id_d = summary_table_id.sort_values(by='Total Purchase Value', ascending=False).head()\n",
    "\n",
    "summary_table_id_d.style.format({\"Total Purchase Value\":\"${:,.2f}\"})\n"
   ]
  },
  {
   "cell_type": "code",
   "execution_count": null,
   "metadata": {},
   "outputs": [],
   "source": []
  },
  {
   "cell_type": "code",
   "execution_count": null,
   "metadata": {},
   "outputs": [],
   "source": []
  }
 ],
 "metadata": {
  "anaconda-cloud": {},
  "kernel_info": {
   "name": "python3"
  },
  "kernelspec": {
   "display_name": "Python 3",
   "language": "python",
   "name": "python3"
  },
  "language_info": {
   "codemirror_mode": {
    "name": "ipython",
    "version": 3
   },
   "file_extension": ".py",
   "mimetype": "text/x-python",
   "name": "python",
   "nbconvert_exporter": "python",
   "pygments_lexer": "ipython3",
   "version": "3.7.3"
  },
  "nteract": {
   "version": "0.2.0"
  }
 },
 "nbformat": 4,
 "nbformat_minor": 2
}
